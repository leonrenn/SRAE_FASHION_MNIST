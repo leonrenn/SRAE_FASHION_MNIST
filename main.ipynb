{
 "cells": [
  {
   "attachments": {},
   "cell_type": "markdown",
   "metadata": {},
   "source": [
    "# Autoencoder for Super Resolution on Fashion MNIST"
   ]
  },
  {
   "attachments": {},
   "cell_type": "markdown",
   "metadata": {},
   "source": [
    "This AutoEncoder (AE) will try to remove the random noise on the pictures of clothings.<br>\n",
    "The input data is the famous Fahsion MNIST with thousands of 28x28 pictures. <br>\n",
    "Gaussian noise was added on the input data. <br>\n",
    "The target images are the original images from the dataset.<br>\n",
    "The input to the AE are the pictures that with additional noise."
   ]
  },
  {
   "attachments": {},
   "cell_type": "markdown",
   "metadata": {},
   "source": [
    "## Import Modules"
   ]
  },
  {
   "cell_type": "code",
   "execution_count": 26,
   "metadata": {},
   "outputs": [],
   "source": [
    "# visualization of images and analytic cruves\n",
    "import matplotlib.pyplot as plt\n",
    "# analytics\n",
    "import numpy as np\n",
    "# dl framework\n",
    "import torch\n",
    "import torch.nn as nn\n",
    "from torch.optim import Adam\n",
    "from torch.utils.data import DataLoader\n",
    "from torch.utils.data import random_split\n",
    "import torchvision\n",
    "# accelerated dl framework\n",
    "import pytorch_lightning as pl\n",
    "from pytorch_lightning.trainer import Trainer\n",
    "from pytorch_lightning.callbacks import TQDMProgressBar"
   ]
  },
  {
   "attachments": {},
   "cell_type": "markdown",
   "metadata": {},
   "source": [
    "## Download Data and Transform"
   ]
  },
  {
   "cell_type": "code",
   "execution_count": 27,
   "metadata": {},
   "outputs": [
    {
     "name": "stdout",
     "output_type": "stream",
     "text": [
      "54000 6000\n"
     ]
    }
   ],
   "source": [
    "# download full dataset for trainin and validation\n",
    "mnist_dataset = torchvision.datasets.FashionMNIST(root=\"\",\n",
    "                                                  transform=torchvision.transforms.Compose([\n",
    "                                                  torchvision.transforms.ToTensor(),\n",
    "                                                  torchvision.transforms.Normalize((0.5,), (0.5,))]),\n",
    "                                                  train=True,\n",
    "                                                  download=True)\n",
    "\n",
    "# split the entire dataset into validation and training set\n",
    "mnist_train_dataset, mnist_val_dataset = random_split(dataset=mnist_dataset, \n",
    "                                                      lengths=[int(len(mnist_dataset)*0.9), \n",
    "                                                               int(len(mnist_dataset)*0.1)])\n",
    "\n",
    "# download the test data\n",
    "mnist_test_dataset = torchvision.datasets.FashionMNIST(root=\"\",\n",
    "                                                  transform=torchvision.transforms.Compose([\n",
    "                                                  torchvision.transforms.ToTensor(),\n",
    "                                                  torchvision.transforms.Normalize((0.5,), (0.5,))]),\n",
    "                                                  train=False,\n",
    "                                                  download=True)"
   ]
  },
  {
   "cell_type": "code",
   "execution_count": 28,
   "metadata": {},
   "outputs": [],
   "source": [
    "batch_size = 64\n",
    "shuffle = True\n",
    "# train dataloader\n",
    "mnist_train_dataloader = DataLoader(mnist_train_dataset,\n",
    "                              batch_size=batch_size,\n",
    "                              shuffle=shuffle)\n",
    "\n",
    "# val dataloader\n",
    "mnist_val_dataloader = DataLoader(mnist_val_dataset,\n",
    "                              batch_size=batch_size,\n",
    "                              shuffle=shuffle)\n",
    "\n",
    "# test dataloader\n",
    "mnist_test_dataloader = DataLoader(mnist_test_dataset,\n",
    "                              batch_size=batch_size,\n",
    "                              shuffle=shuffle)"
   ]
  },
  {
   "cell_type": "code",
   "execution_count": 29,
   "metadata": {},
   "outputs": [
    {
     "data": {
      "image/png": "[encoded data removed]",
      "text/plain": [
       "<Figure size 640x480 with 1 Axes>"
      ]
     },
     "metadata": {},
     "output_type": "display_data"
    }
   ],
   "source": [
    "# plot image dependent on the index in the dataset\n",
    "def visualize_picture(index: int) -> None:\n",
    "    img = np.array(mnist_dataset[index][0]).reshape(28, 28)\n",
    "    label = mnist_dataset[index][1]\n",
    "    plt.imshow(img)\n",
    "    plt.title(label)\n",
    "\n",
    "# example of mnist image\n",
    "visualize_picture(2)"
   ]
  },
  {
   "attachments": {},
   "cell_type": "markdown",
   "metadata": {},
   "source": [
    "## Define AutoEncoder"
   ]
  },
  {
   "cell_type": "code",
   "execution_count": 30,
   "metadata": {},
   "outputs": [],
   "source": [
    "# autoencoder in class structure\n",
    "class SRAE(pl.LightningModule):\n",
    "    def __init__(self):\n",
    "        super().__init__()\n",
    "\n",
    "        # loss criterion\n",
    "        self.criterion = nn.MSELoss()\n",
    "\n",
    "        # encoding procedure\n",
    "        self.encode = nn.Sequential(\n",
    "             nn.Linear(784, 100),\n",
    "             nn.PReLU(),\n",
    "             nn.Linear(100, 10),\n",
    "             nn.PReLU())\n",
    "\n",
    "\n",
    "        # decoding procedure\n",
    "        self.decode = nn.Sequential(\n",
    "             nn.Linear(10, 100),\n",
    "             nn.PReLU(),\n",
    "             nn.Linear(100,784),\n",
    "             nn.Sigmoid()\n",
    "             )\n",
    "\n",
    "\n",
    "    def forward(self,x):\n",
    "\n",
    "        # encode input to latent space\n",
    "        encoded = self.encode(x)\n",
    "        \n",
    "        # decode from latent space\n",
    "        decoded = self.decode(encoded)\n",
    "        return decoded\n",
    "\n",
    "    def training_step(self, batch, batch_idx):\n",
    "        # extract the image from the bact\n",
    "        x, _ = batch\n",
    "        x = x.view(x.size(0), -1)\n",
    "\n",
    "        # adding gaussiona noise to the image\n",
    "\n",
    "        # predicted image from AE \n",
    "        x_hat = self(x)\n",
    "\n",
    "\n",
    "        # using mean squared error to calculate \n",
    "        # the distance to the true values\n",
    "        loss = self.criterion(x_hat, x)\n",
    "\n",
    "        # log the loss for better visualization\n",
    "        self.log('train_loss', \n",
    "                 loss)\n",
    "        return loss\n",
    "\n",
    "    def validation_step(self, batch, batch_idx):\n",
    "        # extract the image from the bact\n",
    "        x, _ = batch\n",
    "        x = x.view(x.size(0), -1)\n",
    "\n",
    "        # adding gaussiona noise to the image\n",
    "\n",
    "        # predicted image from AE \n",
    "        x_hat = self(x)\n",
    "\n",
    "        # using mean squared error to calculate \n",
    "        # the distance to the true values\n",
    "        loss = self.criterion(x_hat, x)\n",
    "\n",
    "        # log the loss for better visualization\n",
    "        self.log('val_loss', \n",
    "                 loss)\n",
    "        return loss\n",
    "\n",
    "    def test_step(self, batch, batch_idx):\n",
    "        # extract the image from the bact\n",
    "        x, _ = batch\n",
    "        x = x.view(x.size(0), -1)\n",
    "\n",
    "        # adding gaussiona noise to the image\n",
    "\n",
    "        # predicted image from AE \n",
    "        x_hat = self(x)\n",
    "\n",
    "        # using mean squared error to calculate \n",
    "        # the distance to the true values\n",
    "        loss = self.criterion(x_hat, x)\n",
    "\n",
    "        # log the loss for better visualization\n",
    "        self.log('test_loss', loss)\n",
    "        return loss\n",
    "\n",
    "    def configure_optimizers(self):\n",
    "        # adam optimizer\n",
    "        optim = Adam(params= self.parameters(),\n",
    "                     lr=1e-3)\n",
    "        return optim"
   ]
  },
  {
   "attachments": {},
   "cell_type": "markdown",
   "metadata": {},
   "source": [
    "## Train AutoEncoder"
   ]
  },
  {
   "cell_type": "code",
   "execution_count": 31,
   "metadata": {},
   "outputs": [
    {
     "name": "stderr",
     "output_type": "stream",
     "text": [
      "GPU available: True (mps), used: False\n",
      "TPU available: False, using: 0 TPU cores\n",
      "IPU available: False, using: 0 IPUs\n",
      "HPU available: False, using: 0 HPUs\n",
      "/Users/leonrenn/opt/miniconda3/envs/TorchExample/lib/python3.10/site-packages/pytorch_lightning/trainer/trainer.py:1791: UserWarning: MPS available but not used. Set `accelerator` and `devices` using `Trainer(accelerator='mps', devices=1)`.\n",
      "  rank_zero_warn(\n",
      "\n",
      "  | Name      | Type       | Params\n",
      "-----------------------------------------\n",
      "0 | criterion | MSELoss    | 0     \n",
      "1 | encode    | Sequential | 7.9 K \n",
      "2 | decode    | Sequential | 8.6 K \n",
      "-----------------------------------------\n",
      "16.5 K    Trainable params\n",
      "0         Non-trainable params\n",
      "16.5 K    Total params\n",
      "0.066     Total estimated model params size (MB)\n"
     ]
    },
    {
     "data": {
      "application/json": {
       "ascii": false,
       "bar_format": null,
       "colour": null,
       "elapsed": 0.01465606689453125,
       "initial": 0,
       "n": 0,
       "ncols": null,
       "nrows": null,
       "postfix": null,
       "prefix": "Sanity Checking",
       "rate": null,
       "total": null,
       "unit": "it",
       "unit_divisor": 1000,
       "unit_scale": false
      },
      "application/vnd.jupyter.widget-view+json": {
       "model_id": "ca08b1dc8c5949e4b8b9a4ae84b83014",
       "version_major": 2,
       "version_minor": 0
      },
      "text/plain": [
       "Sanity Checking: 0it [00:00, ?it/s]"
      ]
     },
     "metadata": {},
     "output_type": "display_data"
    },
    {
     "name": "stderr",
     "output_type": "stream",
     "text": [
      "/Users/leonrenn/opt/miniconda3/envs/TorchExample/lib/python3.10/site-packages/pytorch_lightning/trainer/connectors/data_connector.py:219: PossibleUserWarning: The dataloader, train_dataloader, does not have many workers which may be a bottleneck. Consider increasing the value of the `num_workers` argument` (try 8 which is the number of cpus on this machine) in the `DataLoader` init to improve performance.\n",
      "  rank_zero_warn(\n"
     ]
    },
    {
     "data": {
      "application/json": {
       "ascii": false,
       "bar_format": null,
       "colour": null,
       "elapsed": 0.01630711555480957,
       "initial": 0,
       "n": 0,
       "ncols": null,
       "nrows": null,
       "postfix": null,
       "prefix": "Training",
       "rate": null,
       "total": null,
       "unit": "it",
       "unit_divisor": 1000,
       "unit_scale": false
      },
      "application/vnd.jupyter.widget-view+json": {
       "model_id": "73c4144f96824c469ba478c6f8c9640f",
       "version_major": 2,
       "version_minor": 0
      },
      "text/plain": [
       "Training: 0it [00:00, ?it/s]"
      ]
     },
     "metadata": {},
     "output_type": "display_data"
    },
    {
     "data": {
      "application/json": {
       "ascii": false,
       "bar_format": null,
       "colour": null,
       "elapsed": 0.009156227111816406,
       "initial": 0,
       "n": 0,
       "ncols": null,
       "nrows": null,
       "postfix": null,
       "prefix": "Validation",
       "rate": null,
       "total": null,
       "unit": "it",
       "unit_divisor": 1000,
       "unit_scale": false
      },
      "application/vnd.jupyter.widget-view+json": {
       "model_id": "76d04063fff74d1081dafee9863dc597",
       "version_major": 2,
       "version_minor": 0
      },
      "text/plain": [
       "Validation: 0it [00:00, ?it/s]"
      ]
     },
     "metadata": {},
     "output_type": "display_data"
    },
    {
     "data": {
      "application/json": {
       "ascii": false,
       "bar_format": null,
       "colour": null,
       "elapsed": 0.00960993766784668,
       "initial": 0,
       "n": 0,
       "ncols": null,
       "nrows": null,
       "postfix": null,
       "prefix": "Validation",
       "rate": null,
       "total": null,
       "unit": "it",
       "unit_divisor": 1000,
       "unit_scale": false
      },
      "application/vnd.jupyter.widget-view+json": {
       "model_id": "cb985586e7534592bb41c8a76112a496",
       "version_major": 2,
       "version_minor": 0
      },
      "text/plain": [
       "Validation: 0it [00:00, ?it/s]"
      ]
     },
     "metadata": {},
     "output_type": "display_data"
    },
    {
     "data": {
      "application/json": {
       "ascii": false,
       "bar_format": null,
       "colour": null,
       "elapsed": 0.009887933731079102,
       "initial": 0,
       "n": 0,
       "ncols": null,
       "nrows": null,
       "postfix": null,
       "prefix": "Validation",
       "rate": null,
       "total": null,
       "unit": "it",
       "unit_divisor": 1000,
       "unit_scale": false
      },
      "application/vnd.jupyter.widget-view+json": {
       "model_id": "2dde971d11d843e4bd7648e2e3ae9dcc",
       "version_major": 2,
       "version_minor": 0
      },
      "text/plain": [
       "Validation: 0it [00:00, ?it/s]"
      ]
     },
     "metadata": {},
     "output_type": "display_data"
    },
    {
     "data": {
      "application/json": {
       "ascii": false,
       "bar_format": null,
       "colour": null,
       "elapsed": 0.009048700332641602,
       "initial": 0,
       "n": 0,
       "ncols": null,
       "nrows": null,
       "postfix": null,
       "prefix": "Validation",
       "rate": null,
       "total": null,
       "unit": "it",
       "unit_divisor": 1000,
       "unit_scale": false
      },
      "application/vnd.jupyter.widget-view+json": {
       "model_id": "89d5501ffce641378d6633426024176c",
       "version_major": 2,
       "version_minor": 0
      },
      "text/plain": [
       "Validation: 0it [00:00, ?it/s]"
      ]
     },
     "metadata": {},
     "output_type": "display_data"
    },
    {
     "data": {
      "application/json": {
       "ascii": false,
       "bar_format": null,
       "colour": null,
       "elapsed": 0.009886980056762695,
       "initial": 0,
       "n": 0,
       "ncols": null,
       "nrows": null,
       "postfix": null,
       "prefix": "Validation",
       "rate": null,
       "total": null,
       "unit": "it",
       "unit_divisor": 1000,
       "unit_scale": false
      },
      "application/vnd.jupyter.widget-view+json": {
       "model_id": "0aff3cf1b7704764bdb9a0dc6b2c61cc",
       "version_major": 2,
       "version_minor": 0
      },
      "text/plain": [
       "Validation: 0it [00:00, ?it/s]"
      ]
     },
     "metadata": {},
     "output_type": "display_data"
    },
    {
     "name": "stderr",
     "output_type": "stream",
     "text": [
      "`Trainer.fit` stopped: `max_epochs=5` reached.\n"
     ]
    }
   ],
   "source": [
    "model = SRAE()\n",
    "trainer = Trainer(max_epochs=5,\n",
    "                  callbacks=[TQDMProgressBar(refresh_rate=5)])\n",
    "trainer.fit(model=model,\n",
    "            train_dataloaders=mnist_train_dataloader,\n",
    "            val_dataloaders=mnist_val_dataset)"
   ]
  },
  {
   "attachments": {},
   "cell_type": "markdown",
   "metadata": {},
   "source": [
    "## Performance on Test"
   ]
  },
  {
   "cell_type": "code",
   "execution_count": 32,
   "metadata": {},
   "outputs": [
    {
     "data": {
      "application/json": {
       "ascii": false,
       "bar_format": null,
       "colour": null,
       "elapsed": 0.015080928802490234,
       "initial": 0,
       "n": 0,
       "ncols": null,
       "nrows": null,
       "postfix": null,
       "prefix": "Testing",
       "rate": null,
       "total": null,
       "unit": "it",
       "unit_divisor": 1000,
       "unit_scale": false
      },
      "application/vnd.jupyter.widget-view+json": {
       "model_id": "a00def3d34384e38ad7ef5f70262a5d9",
       "version_major": 2,
       "version_minor": 0
      },
      "text/plain": [
       "Testing: 0it [00:00, ?it/s]"
      ]
     },
     "metadata": {},
     "output_type": "display_data"
    },
    {
     "name": "stdout",
     "output_type": "stream",
     "text": [
      "────────────────────────────────────────────────────────────────────────────────────────────────────────────────────────\n",
      "       Test metric             DataLoader 0\n",
      "────────────────────────────────────────────────────────────────────────────────────────────────────────────────────────\n",
      "        test_loss           0.10144776105880737\n",
      "────────────────────────────────────────────────────────────────────────────────────────────────────────────────────────\n"
     ]
    },
    {
     "data": {
      "text/plain": [
       "[{'test_loss': 0.10144776105880737}]"
      ]
     },
     "execution_count": 32,
     "metadata": {},
     "output_type": "execute_result"
    }
   ],
   "source": [
    "trainer.test(model=model,\n",
    "             dataloaders=mnist_test_dataloader)"
   ]
  },
  {
   "attachments": {},
   "cell_type": "markdown",
   "metadata": {},
   "source": [
    "## Summary"
   ]
  }
 ],
 "metadata": {
  "kernelspec": {
   "display_name": "data_augmentation",
   "language": "python",
   "name": "python3"
  },
  "language_info": {
   "codemirror_mode": {
    "name": "ipython",
    "version": 3
   },
   "file_extension": ".py",
   "mimetype": "text/x-python",
   "name": "python",
   "nbconvert_exporter": "python",
   "pygments_lexer": "ipython3",
   "version": "3.10.4"
  },
  "orig_nbformat": 4
 },
 "nbformat": 4,
 "nbformat_minor": 2
}
