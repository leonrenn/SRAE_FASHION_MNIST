{
 "cells": [
  {
   "attachments": {},
   "cell_type": "markdown",
   "metadata": {},
   "source": [
    "# Autoencoder for Super Resolution on Fashion MNIST"
   ]
  },
  {
   "attachments": {},
   "cell_type": "markdown",
   "metadata": {},
   "source": [
    "This AutoEncoder (AE) will try to remove the random noise on the pictures of clothings.<br>\n",
    "The input data is the famous Fahsion MNIST with thousands of 28x28 pictures. <br>\n",
    "Gaussian noise was added on the input data. <br>\n",
    "The target images are the original images from the dataset.<br>\n",
    "The input to the AE are the pictures that with additional noise."
   ]
  },
  {
   "attachments": {},
   "cell_type": "markdown",
   "metadata": {},
   "source": [
    "## Import Modules"
   ]
  },
  {
   "cell_type": "code",
   "execution_count": 74,
   "metadata": {},
   "outputs": [],
   "source": [
    "# visualization of images and analytic cruves\n",
    "import matplotlib.pyplot as plt\n",
    "# analytics\n",
    "import numpy as np\n",
    "# dl framework\n",
    "import torch\n",
    "import torch.nn as nn\n",
    "from torch.optim import Adam\n",
    "from torch.utils.data import DataLoader\n",
    "from torch.utils.data import random_split\n",
    "import torchvision\n",
    "# accelerated dl framework\n",
    "import pytorch_lightning as pl\n",
    "from pytorch_lightning.trainer import Trainer"
   ]
  },
  {
   "attachments": {},
   "cell_type": "markdown",
   "metadata": {},
   "source": [
    "## Download Data and Transform"
   ]
  },
  {
   "attachments": {},
   "cell_type": "markdown",
   "metadata": {},
   "source": [
    "Define datasets and apply the typical transform to normalize the images to tensor of ranges from 0 to 1."
   ]
  },
  {
   "cell_type": "code",
   "execution_count": 75,
   "metadata": {},
   "outputs": [],
   "source": [
    "# download full dataset for trainin and validation\n",
    "mnist_dataset = torchvision.datasets.FashionMNIST(root=\"\",\n",
    "                                                  transform=torchvision.transforms.Compose([\n",
    "                                                  torchvision.transforms.ToTensor()]),\n",
    "                                                  train=True,\n",
    "                                                  download=True)\n",
    "\n",
    "# split the entire dataset into validation and training set\n",
    "mnist_train_dataset, mnist_val_dataset = random_split(dataset=mnist_dataset, \n",
    "                                                      lengths=[int(len(mnist_dataset)*0.9), \n",
    "                                                               int(len(mnist_dataset)*0.1)])\n",
    "\n",
    "# download the test data\n",
    "mnist_test_dataset = torchvision.datasets.FashionMNIST(root=\"\",\n",
    "                                                  transform=torchvision.transforms.Compose([\n",
    "                                                  torchvision.transforms.ToTensor()]),\n",
    "                                                  train=False,\n",
    "                                                  download=True)"
   ]
  },
  {
   "attachments": {},
   "cell_type": "markdown",
   "metadata": {},
   "source": [
    "For the pytorch_lightning Trainer the dataset has to be put into a DataLoader that handles data supply for the algorithm on the fly."
   ]
  },
  {
   "cell_type": "code",
   "execution_count": 76,
   "metadata": {},
   "outputs": [],
   "source": [
    "batch_size = 32\n",
    "shuffle = True\n",
    "# train dataloader\n",
    "mnist_train_dataloader = DataLoader(mnist_train_dataset,\n",
    "                              batch_size=batch_size,\n",
    "                              shuffle=shuffle)\n",
    "\n",
    "# val dataloader\n",
    "mnist_val_dataloader = DataLoader(mnist_val_dataset,\n",
    "                              batch_size=batch_size,\n",
    "                              shuffle=shuffle)\n",
    "\n",
    "# test dataloader\n",
    "mnist_test_dataloader = DataLoader(mnist_test_dataset,\n",
    "                              batch_size=batch_size,\n",
    "                              shuffle=shuffle)"
   ]
  },
  {
   "attachments": {},
   "cell_type": "markdown",
   "metadata": {},
   "source": [
    "Visualization of a random pictures from the training dataset displaying an ankle boot."
   ]
  },
  {
   "cell_type": "code",
   "execution_count": 77,
   "metadata": {},
   "outputs": [
    {
     "data": {
      "image/png": "[encoded data removed]",
      "text/plain": [
       "<Figure size 640x480 with 2 Axes>"
      ]
     },
     "metadata": {},
     "output_type": "display_data"
    }
   ],
   "source": [
    "# plot image dependent on the index in the dataset\n",
    "def visualize_picture(index: int) -> None:\n",
    "    fig, (ax1, ax2) = plt.subplots(ncols=2, \n",
    "                                   nrows=1)\n",
    "    # get image from dataset\n",
    "    img = np.array(mnist_dataset[index][0]).reshape(28, 28)\n",
    "\n",
    "    # generate noisy image\n",
    "    img_noise = img + np.random.randn(28, 28) * 0.2\n",
    "    \n",
    "    # normalize image back to 0 to 1\n",
    "    img_noise = (img_noise - img_noise.min())/(img_noise.max() - img_noise.min())\n",
    "\n",
    "    # get the label of the image\n",
    "    label = mnist_dataset[index][1]\n",
    "\n",
    "    # plot images\n",
    "    ax1.imshow(img, \n",
    "               cmap=\"Greys_r\")\n",
    "    ax1.set_title(label)\n",
    "    ax2.imshow(img_noise, \n",
    "               cmap=\"Greys_r\")\n",
    "    ax2.set_title(label)\n",
    "\n",
    "# example of mnist image\n",
    "visualize_picture(0)"
   ]
  },
  {
   "attachments": {},
   "cell_type": "markdown",
   "metadata": {},
   "source": [
    "## Define AutoEncoder"
   ]
  },
  {
   "attachments": {},
   "cell_type": "markdown",
   "metadata": {},
   "source": [
    "Typical Autoencoder structure with 2x28 input and 3 linear layers that compress the data to a latent space of 10 dimensions.<br>\n",
    "Afterwards the same architecture is applied to decode the latent space to a picture. <br>\n",
    "The sigmoid at the end of the decoder enforces the output to be between 0 and 1 which is the range of the normalized picture.<br>\n",
    "The gaussian noise is added during training on the input to the neural net. <br>\n",
    "The MSE loss is used to calculate the distance (loss) between the decoded images and the regular images.<br>"
   ]
  },
  {
   "cell_type": "code",
   "execution_count": 80,
   "metadata": {},
   "outputs": [],
   "source": [
    "# autoencoder in class structure\n",
    "class SRAE(pl.LightningModule):\n",
    "    def __init__(self,\n",
    "                 hyperparamters):\n",
    "        super().__init__()\n",
    "        # hyperparamters dict\n",
    "        self.hyperparameters = hyperparamters\n",
    "\n",
    "        # losses\n",
    "        self.epoch_end_train_loss = []\n",
    "        self.epoch_end_val_loss = []\n",
    "        self.training_loss = []\n",
    "        self.validation_loss = []\n",
    "\n",
    "\n",
    "\n",
    "        # loss criterion\n",
    "        self.criterion = nn.MSELoss()\n",
    "\n",
    "        # encoding procedure\n",
    "        self.encode = nn.Sequential(\n",
    "             nn.Linear(784, 200),\n",
    "             nn.PReLU(),\n",
    "             nn.Linear(200, 100),\n",
    "             nn.PReLU(),\n",
    "             nn.Linear(100, 10),\n",
    "             nn.PReLU())\n",
    "\n",
    "\n",
    "        # decoding procedure\n",
    "        self.decode = nn.Sequential(\n",
    "             nn.Linear(10, 100),\n",
    "             nn.PReLU(),\n",
    "             nn.Linear(100, 200),\n",
    "             nn.PReLU(),\n",
    "             nn.Linear(200,784),\n",
    "             nn.Sigmoid()\n",
    "             )\n",
    "\n",
    "\n",
    "    def forward(self,x):\n",
    "\n",
    "        # encode input to latent space\n",
    "        encoded = self.encode(x)\n",
    "        \n",
    "        # decode from latent space\n",
    "        decoded = self.decode(encoded)\n",
    "        return decoded\n",
    "\n",
    "    def training_step(self, batch, batch_idx):\n",
    "        # extract the image from the bact\n",
    "        x, _ = batch\n",
    "        x = x.view(x.size(0), -1)\n",
    "\n",
    "        # adding gaussiona noise to the image\n",
    "        # to vary the noise amplitude, a random\n",
    "        # factor is applied to scale the noise\n",
    "        noise = torch.randn_like(input=x) * torch.rand(1)\n",
    "        x_noise = x + noise\n",
    "\n",
    "        # normalize to [0, 1]\n",
    "        x_noise = (x_noise - x_noise.min())/(x_noise.max()-x_noise.min())\n",
    "\n",
    "        # predicted image from AE \n",
    "        x_hat = self(x_noise)\n",
    "\n",
    "        # using mean squared error to calculate \n",
    "        # the distance to the true values\n",
    "        loss = self.criterion(x_hat, x)\n",
    "\n",
    "        # save loss in list\n",
    "        self.training_loss.append(loss.detach().numpy())\n",
    "\n",
    "        # log the loss for better visualization\n",
    "        self.log('train_loss', \n",
    "                 loss)\n",
    "        return loss\n",
    "\n",
    "    def validation_step(self, batch, batch_idx):\n",
    "        # extract the image from the bact\n",
    "        x, _ = batch\n",
    "        x = x.view(x.size(0), -1)\n",
    "\n",
    "        ## adding gaussiona noise to the image\n",
    "        # to vary the noise amplitude, a random\n",
    "        # factor is applied to scale the noise\n",
    "        noise = torch.randn_like(input=x) * torch.rand(1)\n",
    "        x_noise = x + noise\n",
    "\n",
    "        # normalize to [0, 1]\n",
    "        x_noise = (x_noise - x_noise.min())/(x_noise.max()-x_noise.min())\n",
    "\n",
    "        # predicted image from AE \n",
    "        x_hat = self(x_noise)\n",
    "\n",
    "        # using mean squared error to calculate \n",
    "        # the distance to the true values\n",
    "        loss = self.criterion(x_hat, x)\n",
    "\n",
    "        # save loss in list\n",
    "        self.validation_loss.append(loss.detach().numpy())\n",
    "\n",
    "        # log the loss for better visualization\n",
    "        self.log('val_loss', \n",
    "                 loss)\n",
    "        return loss\n",
    "\n",
    "    def test_step(self, batch, batch_idx):\n",
    "        # extract the image from the bact\n",
    "        x, _ = batch\n",
    "        x = x.view(x.size(0), -1)\n",
    "\n",
    "        # adding gaussiona noise to the image\n",
    "        # to vary the noise amplitude, a random\n",
    "        # factor is applied to scale the noise\n",
    "        noise = torch.randn_like(input=x) * torch.rand(1)\n",
    "        x_noise = x + noise\n",
    "\n",
    "        # normalize to [0, 1]\n",
    "        x_noise = (x_noise - x_noise.min())/(x_noise.max()-x_noise.min())\n",
    "\n",
    "        # predicted image from AE \n",
    "        x_hat = self(x_noise)\n",
    "\n",
    "        # using mean squared error to calculate \n",
    "        # the distance to the true values\n",
    "        loss = self.criterion(x_hat, x)\n",
    "\n",
    "        # log the loss for better visualization\n",
    "        self.log('test_loss', loss)\n",
    "        return loss\n",
    "\n",
    "    def configure_optimizers(self):\n",
    "        # adam optimizer\n",
    "        optim = Adam(params= self.parameters(),\n",
    "                     lr=self.hyperparameters[\"learning_rate\"])\n",
    "        return optim\n",
    "    \n",
    "    def on_epoch_end(self) -> None:\n",
    "        self.epoch_end_val_loss.append(self.validation_loss[-1])\n",
    "        #self.epoch_end_train_loss.append(self.training_loss[-1])\n",
    "        return "
   ]
  },
  {
   "attachments": {},
   "cell_type": "markdown",
   "metadata": {},
   "source": [
    "## Train AutoEncoder"
   ]
  },
  {
   "cell_type": "code",
   "execution_count": 81,
   "metadata": {},
   "outputs": [
    {
     "name": "stderr",
     "output_type": "stream",
     "text": [
      "GPU available: True (mps), used: False\n",
      "TPU available: False, using: 0 TPU cores\n",
      "IPU available: False, using: 0 IPUs\n",
      "HPU available: False, using: 0 HPUs\n",
      "\n",
      "  | Name      | Type       | Params\n",
      "-----------------------------------------\n",
      "0 | criterion | MSELoss    | 0     \n",
      "1 | encode    | Sequential | 178 K \n",
      "2 | decode    | Sequential | 178 K \n",
      "-----------------------------------------\n",
      "356 K     Trainable params\n",
      "0         Non-trainable params\n",
      "356 K     Total params\n",
      "1.428     Total estimated model params size (MB)\n"
     ]
    },
    {
     "data": {
      "application/json": {
       "ascii": false,
       "bar_format": null,
       "colour": null,
       "elapsed": 0.01373600959777832,
       "initial": 0,
       "n": 0,
       "ncols": null,
       "nrows": null,
       "postfix": null,
       "prefix": "Sanity Checking",
       "rate": null,
       "total": null,
       "unit": "it",
       "unit_divisor": 1000,
       "unit_scale": false
      },
      "application/vnd.jupyter.widget-view+json": {
       "model_id": "98ef50f4d3304ef38297782e9ac5d141",
       "version_major": 2,
       "version_minor": 0
      },
      "text/plain": [
       "Sanity Checking: 0it [00:00, ?it/s]"
      ]
     },
     "metadata": {},
     "output_type": "display_data"
    },
    {
     "name": "stderr",
     "output_type": "stream",
     "text": [
      "/Users/leonrenn/opt/miniconda3/envs/TorchExample/lib/python3.10/site-packages/pytorch_lightning/trainer/connectors/data_connector.py:219: PossibleUserWarning: The dataloader, train_dataloader, does not have many workers which may be a bottleneck. Consider increasing the value of the `num_workers` argument` (try 8 which is the number of cpus on this machine) in the `DataLoader` init to improve performance.\n",
      "  rank_zero_warn(\n"
     ]
    },
    {
     "data": {
      "application/json": {
       "ascii": false,
       "bar_format": null,
       "colour": null,
       "elapsed": 0.015128135681152344,
       "initial": 0,
       "n": 0,
       "ncols": null,
       "nrows": null,
       "postfix": null,
       "prefix": "Training",
       "rate": null,
       "total": null,
       "unit": "it",
       "unit_divisor": 1000,
       "unit_scale": false
      },
      "application/vnd.jupyter.widget-view+json": {
       "model_id": "5f417ff26edb4a0c852cd9442073d278",
       "version_major": 2,
       "version_minor": 0
      },
      "text/plain": [
       "Training: 0it [00:00, ?it/s]"
      ]
     },
     "metadata": {},
     "output_type": "display_data"
    },
    {
     "data": {
      "application/json": {
       "ascii": false,
       "bar_format": null,
       "colour": null,
       "elapsed": 0.015246868133544922,
       "initial": 0,
       "n": 0,
       "ncols": null,
       "nrows": null,
       "postfix": null,
       "prefix": "Validation",
       "rate": null,
       "total": null,
       "unit": "it",
       "unit_divisor": 1000,
       "unit_scale": false
      },
      "application/vnd.jupyter.widget-view+json": {
       "model_id": "b5564e37bba6400abc3385b3cae19179",
       "version_major": 2,
       "version_minor": 0
      },
      "text/plain": [
       "Validation: 0it [00:00, ?it/s]"
      ]
     },
     "metadata": {},
     "output_type": "display_data"
    },
    {
     "data": {
      "application/json": {
       "ascii": false,
       "bar_format": null,
       "colour": null,
       "elapsed": 0.01149606704711914,
       "initial": 0,
       "n": 0,
       "ncols": null,
       "nrows": null,
       "postfix": null,
       "prefix": "Validation",
       "rate": null,
       "total": null,
       "unit": "it",
       "unit_divisor": 1000,
       "unit_scale": false
      },
      "application/vnd.jupyter.widget-view+json": {
       "model_id": "a4cdd625ff2b4faca4df59041d36e9bb",
       "version_major": 2,
       "version_minor": 0
      },
      "text/plain": [
       "Validation: 0it [00:00, ?it/s]"
      ]
     },
     "metadata": {},
     "output_type": "display_data"
    },
    {
     "data": {
      "application/json": {
       "ascii": false,
       "bar_format": null,
       "colour": null,
       "elapsed": 0.010293006896972656,
       "initial": 0,
       "n": 0,
       "ncols": null,
       "nrows": null,
       "postfix": null,
       "prefix": "Validation",
       "rate": null,
       "total": null,
       "unit": "it",
       "unit_divisor": 1000,
       "unit_scale": false
      },
      "application/vnd.jupyter.widget-view+json": {
       "model_id": "4b1136d05ad849b18cebbac8b39040c9",
       "version_major": 2,
       "version_minor": 0
      },
      "text/plain": [
       "Validation: 0it [00:00, ?it/s]"
      ]
     },
     "metadata": {},
     "output_type": "display_data"
    },
    {
     "data": {
      "application/json": {
       "ascii": false,
       "bar_format": null,
       "colour": null,
       "elapsed": 0.012049198150634766,
       "initial": 0,
       "n": 0,
       "ncols": null,
       "nrows": null,
       "postfix": null,
       "prefix": "Validation",
       "rate": null,
       "total": null,
       "unit": "it",
       "unit_divisor": 1000,
       "unit_scale": false
      },
      "application/vnd.jupyter.widget-view+json": {
       "model_id": "e0b58022f6e144e2bbddaca1bde2ee47",
       "version_major": 2,
       "version_minor": 0
      },
      "text/plain": [
       "Validation: 0it [00:00, ?it/s]"
      ]
     },
     "metadata": {},
     "output_type": "display_data"
    },
    {
     "data": {
      "application/json": {
       "ascii": false,
       "bar_format": null,
       "colour": null,
       "elapsed": 0.015735149383544922,
       "initial": 0,
       "n": 0,
       "ncols": null,
       "nrows": null,
       "postfix": null,
       "prefix": "Validation",
       "rate": null,
       "total": null,
       "unit": "it",
       "unit_divisor": 1000,
       "unit_scale": false
      },
      "application/vnd.jupyter.widget-view+json": {
       "model_id": "8ee157aab45d4f658b4e208f62af5e78",
       "version_major": 2,
       "version_minor": 0
      },
      "text/plain": [
       "Validation: 0it [00:00, ?it/s]"
      ]
     },
     "metadata": {},
     "output_type": "display_data"
    },
    {
     "name": "stderr",
     "output_type": "stream",
     "text": [
      "`Trainer.fit` stopped: `max_epochs=5` reached.\n"
     ]
    }
   ],
   "source": [
    "# put hyperparams in dict\n",
    "hyperparamters = {\n",
    "    \"batch_size\": batch_size,\n",
    "    \"learning_rate\": 1e-3,\n",
    "    \"max_epochs\": 5\n",
    "}\n",
    "# initialize model\n",
    "model = SRAE(hyperparamters=hyperparamters)\n",
    "\n",
    "# initialize Trainer\n",
    "trainer = Trainer(max_epochs=hyperparamters[\"max_epochs\"])\n",
    "\n",
    "# train the model\n",
    "trainer.fit(model=model,\n",
    "            train_dataloaders=mnist_train_dataloader,\n",
    "            val_dataloaders=mnist_val_dataloader)"
   ]
  },
  {
   "attachments": {},
   "cell_type": "markdown",
   "metadata": {},
   "source": [
    "## Visualize Training"
   ]
  },
  {
   "cell_type": "code",
   "execution_count": 83,
   "metadata": {},
   "outputs": [
    {
     "name": "stderr",
     "output_type": "stream",
     "text": [
      "/var/folders/0m/2px4t5jj7zb9t33jz6srvdb00000gn/T/ipykernel_95576/766233265.py:31: UserWarning: Matplotlib is currently using module://matplotlib_inline.backend_inline, which is a non-GUI backend, so cannot show the figure.\n",
      "  fig.show()\n"
     ]
    },
    {
     "data": {
      "image/png": "[encoded data removed]",
      "text/plain": [
       "<Figure size 640x480 with 3 Axes>"
      ]
     },
     "metadata": {},
     "output_type": "display_data"
    }
   ],
   "source": [
    "# visualize the models loss during trainin\n",
    "def visualize_model(model):\n",
    "    train_loss = model.training_loss\n",
    "    val_loss = model.validation_loss\n",
    "    train_loss_epoch_end = model.epoch_end_train_loss\n",
    "    val_loss_epoch_end = model.epoch_end_val_loss\n",
    "\n",
    "    fig, (ax1, ax2, ax3) = plt.subplots(nrows=1,\n",
    "                                   ncols=3,\n",
    "                                   sharey=True)\n",
    "    # train loss\n",
    "    ax1.plot(train_loss, label=\"Train Loss\")\n",
    "    ax1.set_xlabel(\"Iteration\")\n",
    "    ax1.legend()\n",
    "\n",
    "    # val loss\n",
    "    ax2.plot(val_loss, label=\"Val Loss\")\n",
    "    ax2.set_xlabel(\"Iteration\")\n",
    "    ax2.legend()\n",
    "\n",
    "    # train and val loss\n",
    "    ax3.plot(train_loss_epoch_end, \n",
    "             label=\"Train Loss\",\n",
    "             alpha=0.5)\n",
    "    ax3.plot(val_loss_epoch_end,\n",
    "             label=\"Validation Loss\",\n",
    "             alpha=0.5)\n",
    "    ax3.set_xlabel(\"Epoch\")\n",
    "    ax3.legend()\n",
    "    \n",
    "\n",
    "    fig.show()\n",
    "    return\n",
    "\n",
    "visualize_model(model=model)"
   ]
  },
  {
   "attachments": {},
   "cell_type": "markdown",
   "metadata": {},
   "source": [
    "## Visualization of Denoising"
   ]
  },
  {
   "cell_type": "code",
   "execution_count": 93,
   "metadata": {},
   "outputs": [
    {
     "data": {
      "image/png": "[encoded data removed]",
      "text/plain": [
       "<Figure size 640x480 with 2 Axes>"
      ]
     },
     "metadata": {},
     "output_type": "display_data"
    }
   ],
   "source": [
    "# plot image dependent on the index in the dataset\n",
    "def visualize_picture(index: int) -> None:\n",
    "    fig, (ax1, ax2) = plt.subplots(ncols=2, \n",
    "                                   nrows=1)\n",
    "    # get image from dataset\n",
    "    img = np.array(mnist_test_dataset[index][0], dtype=float).reshape(28, 28)\n",
    "\n",
    "    # generate noisy image\n",
    "    img_noise = img + np.random.randn(28, 28) * 0.2\n",
    "    \n",
    "    # normalize image back to 0 to 1\n",
    "    img_noise = (img_noise - img_noise.min())/(img_noise.max() - img_noise.min())\n",
    "\n",
    "    # flatten to input size\n",
    "    img_denoised = img_noise.flatten()\n",
    "\n",
    "    img_denoised = torch.tensor(img_denoised,dtype=torch.float)\n",
    "\n",
    "    img_denoised = model(img_denoised).detach().numpy().reshape(28, 28)\n",
    "\n",
    "    # plot images\n",
    "    ax1.imshow(img_noise, \n",
    "               cmap=\"Greys_r\")\n",
    "    ax1.set_title(\"Image with Noise\")\n",
    "    ax2.imshow(img_denoised, \n",
    "               cmap=\"Greys_r\")\n",
    "    ax2.set_title(\"Denoised image from SRAE\")\n",
    "\n",
    "# example of mnist image\n",
    "visualize_picture(3)"
   ]
  },
  {
   "attachments": {},
   "cell_type": "markdown",
   "metadata": {},
   "source": [
    "## Performance on Test"
   ]
  },
  {
   "cell_type": "code",
   "execution_count": null,
   "metadata": {},
   "outputs": [
    {
     "name": "stderr",
     "output_type": "stream",
     "text": [
      "/Users/leonrenn/opt/miniconda3/envs/TorchExample/lib/python3.10/site-packages/pytorch_lightning/trainer/connectors/data_connector.py:466: PossibleUserWarning: Your `test_dataloader`'s sampler has shuffling enabled, it is strongly recommended that you turn shuffling off for val/test/predict dataloaders.\n",
      "  rank_zero_warn(\n",
      "/Users/leonrenn/opt/miniconda3/envs/TorchExample/lib/python3.10/site-packages/pytorch_lightning/trainer/connectors/data_connector.py:219: PossibleUserWarning: The dataloader, test_dataloader 0, does not have many workers which may be a bottleneck. Consider increasing the value of the `num_workers` argument` (try 8 which is the number of cpus on this machine) in the `DataLoader` init to improve performance.\n",
      "  rank_zero_warn(\n"
     ]
    },
    {
     "data": {
      "application/json": {
       "ascii": false,
       "bar_format": null,
       "colour": null,
       "elapsed": 0.010981321334838867,
       "initial": 0,
       "n": 0,
       "ncols": null,
       "nrows": null,
       "postfix": null,
       "prefix": "Testing",
       "rate": null,
       "total": null,
       "unit": "it",
       "unit_divisor": 1000,
       "unit_scale": false
      },
      "application/vnd.jupyter.widget-view+json": {
       "model_id": "2243ea0cafe84a95ae6c3d0f50d62070",
       "version_major": 2,
       "version_minor": 0
      },
      "text/plain": [
       "Testing: 0it [00:00, ?it/s]"
      ]
     },
     "metadata": {},
     "output_type": "display_data"
    },
    {
     "name": "stdout",
     "output_type": "stream",
     "text": [
      "────────────────────────────────────────────────────────────────────────────────────────────────────────────────────────\n",
      "       Test metric             DataLoader 0\n",
      "────────────────────────────────────────────────────────────────────────────────────────────────────────────────────────\n",
      "        test_loss           0.03103574551641941\n",
      "────────────────────────────────────────────────────────────────────────────────────────────────────────────────────────\n"
     ]
    },
    {
     "data": {
      "text/plain": [
       "[{'test_loss': 0.03103574551641941}]"
      ]
     },
     "execution_count": 53,
     "metadata": {},
     "output_type": "execute_result"
    }
   ],
   "source": [
    "# evaluate the performace on the test set\n",
    "trainer.test(model=model,\n",
    "             dataloaders=mnist_test_dataloader)"
   ]
  },
  {
   "attachments": {},
   "cell_type": "markdown",
   "metadata": {},
   "source": [
    "## Save the model"
   ]
  },
  {
   "cell_type": "code",
   "execution_count": null,
   "metadata": {},
   "outputs": [],
   "source": [
    "torch.save(model.state_dict(), \n",
    "           f=\"SRAE.pt\")"
   ]
  },
  {
   "attachments": {},
   "cell_type": "markdown",
   "metadata": {},
   "source": [
    "## Summary"
   ]
  },
  {
   "attachments": {},
   "cell_type": "markdown",
   "metadata": {},
   "source": [
    "Even though the model was only of very simple architecture, it performed pretty well removing noise from clothing images.<br>\n",
    "To improve the model, one could mkae the layers to convolutional layers, train the model longer and ajust other hyperparameters.<br>\n",
    "Have fun :)"
   ]
  }
 ],
 "metadata": {
  "kernelspec": {
   "display_name": "data_augmentation",
   "language": "python",
   "name": "python3"
  },
  "language_info": {
   "codemirror_mode": {
    "name": "ipython",
    "version": 3
   },
   "file_extension": ".py",
   "mimetype": "text/x-python",
   "name": "python",
   "nbconvert_exporter": "python",
   "pygments_lexer": "ipython3",
   "version": "3.10.4"
  },
  "orig_nbformat": 4
 },
 "nbformat": 4,
 "nbformat_minor": 2
}
