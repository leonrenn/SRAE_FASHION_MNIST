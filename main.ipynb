{
 "cells": [
  {
   "attachments": {},
   "cell_type": "markdown",
   "metadata": {},
   "source": [
    "# Autoencoder for Super Resolution on Fashion MNIST"
   ]
  },
  {
   "attachments": {},
   "cell_type": "markdown",
   "metadata": {},
   "source": [
    "This AutoEncoder (AE) will try to remove the random noise on the pictures of clothings.<br>\n",
    "The input data is the famous Fahsion MNIST with thousands of 28x28 pictures. <br>\n",
    "Gaussian noise was added on the input data. <br>\n",
    "The target images are the original images from the dataset.<br>\n",
    "The input to the AE are the pictures that with additional noise."
   ]
  },
  {
   "attachments": {},
   "cell_type": "markdown",
   "metadata": {},
   "source": [
    "## Import Modules"
   ]
  },
  {
   "cell_type": "code",
   "execution_count": 1,
   "metadata": {},
   "outputs": [],
   "source": [
    "# visualization of images and analytic cruves\n",
    "import matplotlib.pyplot as plt\n",
    "# dl framework\n",
    "import torch\n",
    "import torch.nn as nn\n",
    "from torch.optim import Adamz\n",
    "from torch.utils.data import Dataset,DataLoader\n",
    "import torchvision\n",
    "# accelerated dl framework\n",
    "import pytorch_lightning as pl"
   ]
  },
  {
   "attachments": {},
   "cell_type": "markdown",
   "metadata": {},
   "source": [
    "## Download Data and Transform"
   ]
  },
  {
   "cell_type": "code",
   "execution_count": null,
   "metadata": {},
   "outputs": [],
   "source": [
    "mnist_dataset = torchvision.datasets.FashionMNIST(root=\"\",\n",
    "                                           transform=torchvision.transforms.Compose([\n",
    "                                           torchvision.transforms.ToTensor()]),\n",
    "                                          download=True)\n"
   ]
  },
  {
   "cell_type": "code",
   "execution_count": null,
   "metadata": {},
   "outputs": [],
   "source": [
    "mnist_dataloader = DataLoader(mnist_dataset,\n",
    "                              batch_size=16,\n",
    "                              shuffle=True,)"
   ]
  },
  {
   "cell_type": "code",
   "execution_count": null,
   "metadata": {},
   "outputs": [],
   "source": [
    "# plot image dependent on the index in the dataset\n",
    "def visualize_picture(index: int) -> None:\n",
    "    img = np.array(mnist_dataset[index][0]).reshape(28, 28)\n",
    "    label = mnist_dataset[index][1]\n",
    "    plt.imshow(img)\n",
    "    plt.title(label)\n",
    "\n",
    "# example of mnist image\n",
    "visualize_number(0)"
   ]
  },
  {
   "attachments": {},
   "cell_type": "markdown",
   "metadata": {},
   "source": [
    "## Define AutoEncoder"
   ]
  },
  {
   "cell_type": "code",
   "execution_count": null,
   "metadata": {},
   "outputs": [],
   "source": [
    "# autoencoder in class structure\n",
    "class SRAE(pl.LightningModule):\n",
    "    def __init__(self):\n",
    "\n",
    "        # encoding procedure\n",
    "        self.encoder = []\n",
    "\n",
    "        # decoding procedure\n",
    "        self.decoder = []\n",
    "\n",
    "\n",
    "    def forward(self,x):\n",
    "\n",
    "        # encode input to latent space\n",
    "        encoded = self.encoder(x)\n",
    "\n",
    "        # decode from latent space\n",
    "        decoded = self.decode(encoded)\n",
    "        return decoded\n",
    "\n",
    "    def training_step(self, batch, batch_idx):\n",
    "        # extract the image from the bact\n",
    "        x, _ = batch\n",
    "\n",
    "        # adding gaussiona noise to the image\n",
    "\n",
    "        # predicted image from AE \n",
    "        x_hat = self(x)\n",
    "\n",
    "        # using mean squared error to calculate \n",
    "        # the distance to the true values\n",
    "        loss = nn.functional.MSE(x_hat, x)\n",
    "\n",
    "        # log the loss for better visualization\n",
    "        self.log('train_loss', loss)\n",
    "        return loss\n",
    "\n",
    "    def validation_step(self, val_batch, val_idx):\n",
    "        # extract the image from the bact\n",
    "        x, _ = batch\n",
    "\n",
    "        # adding gaussiona noise to the image\n",
    "\n",
    "        # predicted image from AE \n",
    "        x_hat = self(x)\n",
    "\n",
    "        # using mean squared error to calculate \n",
    "        # the distance to the true values\n",
    "        loss = nn.functional.MSE(x_hat, x)\n",
    "\n",
    "        # log the loss for better visualization\n",
    "        self.log('val_loss', loss)\n",
    "        return loss\n",
    "\n",
    "    def test_step(self, train_batch, train_idx):\n",
    "        # extract the image from the bact\n",
    "        x, _ = batch\n",
    "\n",
    "        # adding gaussiona noise to the image\n",
    "\n",
    "        # predicted image from AE \n",
    "        x_hat = self(x)\n",
    "\n",
    "        # using mean squared error to calculate \n",
    "        # the distance to the true values\n",
    "        loss = nn.functional.MSE(x_hat, x)\n",
    "\n",
    "        # log the loss for better visualization\n",
    "        self.log('test_loss', loss)\n",
    "        return loss\n",
    "\n",
    "    def configure_optimizer(self):\n",
    "        # adam optimizer\n",
    "        optim = Adam(self.parameters())\n",
    "        return optim"
   ]
  },
  {
   "attachments": {},
   "cell_type": "markdown",
   "metadata": {},
   "source": [
    "## Train AutoEncoder"
   ]
  },
  {
   "cell_type": "code",
   "execution_count": null,
   "metadata": {},
   "outputs": [],
   "source": [
    "model = SRAE()\n",
    "trainer = Trainer(max_epochs=5)\n",
    "trainer.fit(model=model,\n",
    "            train_dataloaders=mnist_dataloader)"
   ]
  },
  {
   "attachments": {},
   "cell_type": "markdown",
   "metadata": {},
   "source": [
    "## Performance on Test"
   ]
  },
  {
   "cell_type": "code",
   "execution_count": null,
   "metadata": {},
   "outputs": [],
   "source": []
  },
  {
   "attachments": {},
   "cell_type": "markdown",
   "metadata": {},
   "source": [
    "## Summary"
   ]
  }
 ],
 "metadata": {
  "kernelspec": {
   "display_name": "data_augmentation",
   "language": "python",
   "name": "python3"
  },
  "language_info": {
   "codemirror_mode": {
    "name": "ipython",
    "version": 3
   },
   "file_extension": ".py",
   "mimetype": "text/x-python",
   "name": "python",
   "nbconvert_exporter": "python",
   "pygments_lexer": "ipython3",
   "version": "3.9.11"
  },
  "orig_nbformat": 4
 },
 "nbformat": 4,
 "nbformat_minor": 2
}
